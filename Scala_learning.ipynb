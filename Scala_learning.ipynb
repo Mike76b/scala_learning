{
 "cells": [
  {
   "cell_type": "html",
   "metadata": {},
   "source": [
    "<br><br><font size=5><font color=red><b>Scala</b></font> learning.</font>"
   ]
  },
  {
   "cell_type": "code",
   "execution_count": 1,
   "metadata": {},
   "outputs": [
    {
     "data": {
      "text/plain": [
       "Intitializing Scala interpreter ..."
      ]
     },
     "metadata": {},
     "output_type": "display_data"
    },
    {
     "data": {
      "text/plain": [
       "Spark Web UI available at http://192.168.1.193:4040\n",
       "SparkContext available as 'sc' (version = 2.4.4, master = local[*], app id = local-1576059022243)\n",
       "SparkSession available as 'spark'\n"
      ]
     },
     "metadata": {},
     "output_type": "display_data"
    },
    {
     "name": "stdout",
     "output_type": "stream",
     "text": [
      "Starting up the kernel...\n"
     ]
    }
   ],
   "source": [
    "// Just a simple command to call the scala kernel\n",
    "println(\"Starting up the kernel...\")"
   ]
  },
  {
   "cell_type": "markdown",
   "metadata": {},
   "source": [
    "<br><p><font size=\"3\"><b>Classes - Objects:</b> Some simple examples.</font></p>"
   ]
  },
  {
   "cell_type": "code",
   "execution_count": 2,
   "metadata": {},
   "outputs": [
    {
     "data": {
      "text/plain": [
       "defined class Animal\n",
       "defined object Animal\n"
      ]
     },
     "execution_count": 2,
     "metadata": {},
     "output_type": "execute_result"
    }
   ],
   "source": [
    "/* Here I'm using two kind of constructors:\n",
    "*\n",
    "* First, between parentheses, are defined both the parameters and the data type, \n",
    "* also a default value could be asigned to each one.\n",
    "* \n",
    "* Second, closer to the __init__ in Python, Scala has the 'def this(parameter_name: data_type)' constructor.\n",
    "*/\n",
    "\n",
    "class Animal(var name: String, var sound: String){ // Here are both, the class name and the constructor definition.\n",
    "    this.setName(name)\n",
    "    \n",
    "    val id = Animal.newIdNumber\n",
    "    def getName(): String = name\n",
    "    def getSound(): String = sound\n",
    "    \n",
    "    def setName(name: String) { // Aux func to set the name parameter for specific cases.\n",
    "        if (!(name.matches(\".*\\\\d+.*\"))) //Regular expressions; in this case to avoid decimals within the name.\n",
    "            this.name = name\n",
    "        else\n",
    "            this.name = \"No Name\"\n",
    "    }\n",
    "    \n",
    "    def setSound(sound: String){\n",
    "        this.sound = sound\n",
    "    }\n",
    "    \n",
    "    def this(name: String){ // The keyword 'this' as a function definition is another constructor available\n",
    "        this(\"No Name\", \"No Sound\") // in case of having a \"No Name\", \"No Sound\" Animal, the constructor can be called\n",
    "        this.setName(name) // with a name as a parameter, to redefine the name of it\n",
    "    }\n",
    "    \n",
    "    def this(){ // Here is a constructor to use in case of creating an Animal with no parameters defined.\n",
    "        this(\"No Name\", \"No Sound\")\n",
    "    }\n",
    "    \n",
    "    override def toString(): String = {\n",
    "        \"%s with the id %d says %s.\".format(this.name, this.id, this.sound)\n",
    "    }\n",
    "}\n",
    "\n",
    "object Animal { // Known as companion object of a class, is used to define static class variables and functions.\n",
    "    private var idNumber = 0\n",
    "    private def newIdNumber = { idNumber += 1; idNumber}\n",
    "}"
   ]
  },
  {
   "cell_type": "markdown",
   "metadata": {},
   "source": [
    "<br><p><font size=\"3\">Creating some instances of Animal class.</font></p>"
   ]
  },
  {
   "cell_type": "code",
   "execution_count": 3,
   "metadata": {},
   "outputs": [
    {
     "data": {
      "text/plain": [
       "dog_1: Animal = dog with the id 1 says roof!.\n"
      ]
     },
     "execution_count": 3,
     "metadata": {},
     "output_type": "execute_result"
    }
   ],
   "source": [
    "val dog_1 = new Animal(\"dog\", \"roof!\")"
   ]
  },
  {
   "cell_type": "code",
   "execution_count": 4,
   "metadata": {},
   "outputs": [
    {
     "data": {
      "text/plain": [
       "cat_1: Animal = cat with the id 2 says meow!.\n"
      ]
     },
     "execution_count": 4,
     "metadata": {},
     "output_type": "execute_result"
    }
   ],
   "source": [
    "val cat_1 = new Animal()\n",
    "cat_1.setName(\"cat\")\n",
    "cat_1.setSound(\"meow!\")"
   ]
  },
  {
   "cell_type": "code",
   "execution_count": 5,
   "metadata": {},
   "outputs": [
    {
     "data": {
      "text/plain": [
       "animal_1: Animal = No Name with the id 3 says No Sound.\n"
      ]
     },
     "execution_count": 5,
     "metadata": {},
     "output_type": "execute_result"
    }
   ],
   "source": [
    "val animal_1 = new Animal()"
   ]
  },
  {
   "cell_type": "code",
   "execution_count": 6,
   "metadata": {
    "scrolled": true
   },
   "outputs": [
    {
     "name": "stdout",
     "output_type": "stream",
     "text": [
      "Now we have 3 Animals, a dog\n",
      "Also a cat and one undefined as No Name."
     ]
    }
   ],
   "source": [
    "printf(\"Now we have 3 Animals, a %s\\n\".format(dog_1.name)) // One way of formatting strings\n",
    "print(s\"Also a ${cat_1.name} and one undefined as ${animal_1.name}.\") // Another way of formatting strings"
   ]
  },
  {
   "cell_type": "markdown",
   "metadata": {},
   "source": [
    "<br><p><font size=\"3\"><b>Inheritance</b> from Animal class.</font></p>"
   ]
  },
  {
   "cell_type": "code",
   "execution_count": 7,
   "metadata": {},
   "outputs": [
    {
     "data": {
      "text/plain": [
       "defined class Fish\n"
      ]
     },
     "execution_count": 7,
     "metadata": {},
     "output_type": "execute_result"
    }
   ],
   "source": [
    "class Fish(name: String, sound: String, var action: String) extends Animal(name, sound) {\n",
    "    def this(name: String, sound: String){ \n",
    "        this(\"No Name\", sound, \"No Action\") // constructor called in case of having no action (and a no valid Name)\n",
    "        this.setName(name)\n",
    "    }\n",
    "    \n",
    "    def this(name: String) { // constructor called in case of having neither action nor sound (and a no valid Name)\n",
    "        this(\"No Name\", \"No Sound\", \"No Action\")\n",
    "        this.setName(name)\n",
    "    }\n",
    "    \n",
    "    def this() { // constructor called in case of having neither action, sound, nor a valid Name.\n",
    "    this(\"No Name\", \"No Sound\", \"No Action\")\n",
    "    }\n",
    "    \n",
    "    override def toString(): String = {\n",
    "        \"%s with the id %d says %s and it can %s.\".format(this.name, this.id, this.sound, this.action)\n",
    "    }\n",
    "}"
   ]
  },
  {
   "cell_type": "code",
   "execution_count": 8,
   "metadata": {},
   "outputs": [
    {
     "name": "stdout",
     "output_type": "stream",
     "text": [
      "Now we have 1 Fish, called Doris, and it likes to dance."
     ]
    },
    {
     "data": {
      "text/plain": [
       "doris: Fish = Doris with the id 4 says blups and it can dance.\n"
      ]
     },
     "execution_count": 8,
     "metadata": {},
     "output_type": "execute_result"
    }
   ],
   "source": [
    "val doris = new Fish(\"Doris\", \"blups\", \"dance\")\n",
    "printf(\"Now we have 1 Fish, called %s, and it likes to %s.\".format(doris.name, doris.action))"
   ]
  },
  {
   "cell_type": "code",
   "execution_count": 9,
   "metadata": {},
   "outputs": [
    {
     "data": {
      "text/plain": [
       "res4: String = dance\n"
      ]
     },
     "execution_count": 9,
     "metadata": {},
     "output_type": "execute_result"
    }
   ],
   "source": [
    "doris.action"
   ]
  },
  {
   "cell_type": "markdown",
   "metadata": {},
   "source": [
    "---"
   ]
  },
  {
   "cell_type": "markdown",
   "metadata": {},
   "source": [
    "### Learning exercises."
   ]
  },
  {
   "cell_type": "markdown",
   "metadata": {},
   "source": [
    "Square roots with Newton's method."
   ]
  },
  {
   "cell_type": "code",
   "execution_count": 10,
   "metadata": {},
   "outputs": [
    {
     "data": {
      "text/plain": [
       "sqrtIter: (guess: Double, x: Double)Double\n",
       "isGoodEnough: (guess: Double, x: Double)Boolean\n",
       "improve: (guess: Double, x: Double)Double\n",
       "sqrt: (x: Double)Double\n"
      ]
     },
     "execution_count": 10,
     "metadata": {},
     "output_type": "execute_result"
    }
   ],
   "source": [
    "// As it is a recursive function, I'll define the main one first and then the helper functions. \n",
    "// Specifying the output type in recursive functions is mandatory.\n",
    "\n",
    "def sqrtIter(guess: Double, x: Double): Double =  \n",
    "  if (isGoodEnough(guess, x)) guess\n",
    "  else sqrtIter(improve(guess, x), x)\n",
    "\n",
    "def isGoodEnough(guess: Double, x: Double) = \n",
    "  math.abs(guess * guess - x) / x < 0.001\n",
    "\n",
    "def improve(guess: Double, x: Double) =\n",
    "  (guess + x / guess) / 2\n",
    "\n",
    "def sqrt(x: Double) = sqrtIter(1.0, x)"
   ]
  },
  {
   "cell_type": "code",
   "execution_count": 11,
   "metadata": {},
   "outputs": [
    {
     "name": "stdout",
     "output_type": "stream",
     "text": [
      "1.4142156862745097\n",
      "2.000609756097561\n",
      "0.0010000001533016628\n",
      "1.0000788456669446E30\n"
     ]
    }
   ],
   "source": [
    "println(sqrt(2))\n",
    "println(sqrt(4))\n",
    "println(sqrt(1e-6))\n",
    "println(sqrt(1e60))"
   ]
  },
  {
   "cell_type": "markdown",
   "metadata": {},
   "source": [
    "### The wrap..."
   ]
  },
  {
   "cell_type": "markdown",
   "metadata": {},
   "source": [
    "As good practices, from functional programming point of view, we should split up a task into many small pure functions, nevertheless we can wrap them such as:"
   ]
  },
  {
   "cell_type": "code",
   "execution_count": 12,
   "metadata": {},
   "outputs": [
    {
     "data": {
      "text/plain": [
       "sqrt: (x: Double)Double\n"
      ]
     },
     "execution_count": 12,
     "metadata": {},
     "output_type": "execute_result"
    }
   ],
   "source": [
    "// Functions defined inside sqrt are not accesible from outside.\n",
    "def sqrt(x: Double) = {\n",
    "    \n",
    "    def sqrtIter(guess: Double, x: Double): Double =  \n",
    "      if (isGoodEnough(guess, x)) guess\n",
    "      else sqrtIter(improve(guess, x), x)\n",
    "\n",
    "    def isGoodEnough(guess: Double, x: Double) = \n",
    "      math.abs(guess * guess - x) / x < 0.001\n",
    "\n",
    "    def improve(guess: Double, x: Double) =\n",
    "      (guess + x / guess) / 2\n",
    "\n",
    "      sqrtIter(1.0, x)\n",
    "}"
   ]
  },
  {
   "cell_type": "code",
   "execution_count": 13,
   "metadata": {},
   "outputs": [
    {
     "name": "stdout",
     "output_type": "stream",
     "text": [
      "1.4142156862745097\n",
      "2.000609756097561\n",
      "0.0010000001533016628\n",
      "1.0000788456669446E30\n"
     ]
    }
   ],
   "source": [
    "println(sqrt(2))\n",
    "println(sqrt(4))\n",
    "println(sqrt(1e-6))\n",
    "println(sqrt(1e60))"
   ]
  },
  {
   "cell_type": "markdown",
   "metadata": {},
   "source": [
    "### Blocks in Scala"
   ]
  },
  {
   "cell_type": "markdown",
   "metadata": {},
   "source": [
    "An example of Scope Rules and blocks."
   ]
  },
  {
   "cell_type": "code",
   "execution_count": 14,
   "metadata": {},
   "outputs": [
    {
     "data": {
      "text/plain": [
       "x: Int = 1\n",
       "u: Int = 3\n",
       "f: (y: Int)Int\n",
       "result: Int = 29\n"
      ]
     },
     "execution_count": 14,
     "metadata": {},
     "output_type": "execute_result"
    }
   ],
   "source": [
    "// Same name variables are used to expose the different values under different scopes.\n",
    "val x = 1\n",
    "val u = 3\n",
    "def f(y: Int) = y + 2\n",
    "val result = {\n",
    "    val x = f(3); // <- = 5\n",
    "    x * x + u // (5 * 5) + 3 = 28\n",
    "} + x  // 28 + 1 = 29"
   ]
  },
  {
   "cell_type": "code",
   "execution_count": 15,
   "metadata": {},
   "outputs": [
    {
     "data": {
      "text/plain": [
       "sqrt: (x: Double)Double\n"
      ]
     },
     "execution_count": 15,
     "metadata": {},
     "output_type": "execute_result"
    }
   ],
   "source": [
    "// Because of the previous Scope rules, sqrt function can be defined such as:\n",
    "// Outside x value, will be accesible from inside.\n",
    "def sqrt(x: Double) = {\n",
    "    \n",
    "//  def sqrtIter(guess: Double, x: Double): Double =   // def declaration used before and after\n",
    "    def sqrtIter(guess: Double): Double =\n",
    "      if (isGoodEnough(guess)) guess\n",
    "      else sqrtIter(improve(guess))\n",
    "\n",
    "//  def isGoodEnough(guess: Double, x: Double) =   // def declaration used before and after\n",
    "    def isGoodEnough(guess: Double) = \n",
    "      math.abs(guess * guess - x) / x < 0.001\n",
    "\n",
    "//  def improve(guess: Double, x: Double) =   // def declaration used before and after\n",
    "    def improve(guess: Double) =\n",
    "      (guess + x / guess) / 2\n",
    "\n",
    "      sqrtIter(1.0)\n",
    "}"
   ]
  },
  {
   "cell_type": "code",
   "execution_count": 16,
   "metadata": {},
   "outputs": [
    {
     "name": "stdout",
     "output_type": "stream",
     "text": [
      "1.4142156862745097\n",
      "2.000609756097561\n",
      "0.0010000001533016628\n",
      "1.0000788456669446E30\n"
     ]
    }
   ],
   "source": [
    "println(sqrt(2))\n",
    "println(sqrt(4))\n",
    "println(sqrt(1e-6))\n",
    "println(sqrt(1e60))"
   ]
  },
  {
   "cell_type": "markdown",
   "metadata": {},
   "source": [
    "---"
   ]
  }
 ],
 "metadata": {
  "kernelspec": {
   "display_name": "spylon-kernel",
   "language": "scala",
   "name": "spylon-kernel"
  },
  "language_info": {
   "codemirror_mode": "text/x-scala",
   "file_extension": ".scala",
   "help_links": [
    {
     "text": "MetaKernel Magics",
     "url": "https://metakernel.readthedocs.io/en/latest/source/README.html"
    }
   ],
   "mimetype": "text/x-scala",
   "name": "scala",
   "pygments_lexer": "scala",
   "version": "0.4.1"
  }
 },
 "nbformat": 4,
 "nbformat_minor": 2
}
